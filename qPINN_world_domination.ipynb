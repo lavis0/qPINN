{
  "cells": [
    {
      "cell_type": "code",
      "execution_count": 1,
      "metadata": {
        "id": "e1VhjzsMJtxq"
      },
      "outputs": [],
      "source": [
        "import pennylane as qml\n",
        "\n",
        "import qiskit\n",
        "\n",
        "import numpy as np\n",
        "import tensorflow as tf\n",
        "import matplotlib.pyplot as plt"
      ]
    },
    {
      "cell_type": "code",
      "execution_count": 2,
      "metadata": {
        "id": "ZrPGvzYOEdy6"
      },
      "outputs": [],
      "source": [
        "def diff_eq(du, u, t, k, l):\n",
        "  du + l*u*(k + np.tan(l*t))\n",
        "\n",
        "def main_variable_u(x, t, k, l, c):\n",
        "  np.exp(-k*l*t)*np.cos(l*x) + c\n",
        "\n"
      ]
    }
  ],
  "metadata": {
    "colab": {
      "provenance": []
    },
    "kernelspec": {
      "display_name": "base",
      "language": "python",
      "name": "python3"
    },
    "language_info": {
      "codemirror_mode": {
        "name": "ipython",
        "version": 3
      },
      "file_extension": ".py",
      "mimetype": "text/x-python",
      "name": "python",
      "nbconvert_exporter": "python",
      "pygments_lexer": "ipython3",
      "version": "3.12.7"
    }
  },
  "nbformat": 4,
  "nbformat_minor": 0
}
